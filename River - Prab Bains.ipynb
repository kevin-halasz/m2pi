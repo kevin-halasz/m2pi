{
 "cells": [
  {
   "cell_type": "code",
   "execution_count": 111,
   "id": "1a84b708",
   "metadata": {},
   "outputs": [],
   "source": [
    "import pandas as pd\n",
    "import matplotlib.pyplot as plt\n",
    "from sklearn.model_selection import train_test_split\n",
    "from sklearn.linear_model import LinearRegression"
   ]
  },
  {
   "cell_type": "code",
   "execution_count": 89,
   "id": "0deca361",
   "metadata": {},
   "outputs": [],
   "source": [
    "df_census = pd.read_csv('census_lf_2011.csv')"
   ]
  },
  {
   "cell_type": "code",
   "execution_count": 90,
   "id": "9c55b8c2",
   "metadata": {},
   "outputs": [],
   "source": [
    "df_geo_code = pd.read_csv('Geo_starting_row_CSV.csv')"
   ]
  },
  {
   "cell_type": "code",
   "execution_count": 91,
   "id": "c6eaded0",
   "metadata": {},
   "outputs": [
    {
     "data": {
      "text/html": [
       "<div>\n",
       "<style scoped>\n",
       "    .dataframe tbody tr th:only-of-type {\n",
       "        vertical-align: middle;\n",
       "    }\n",
       "\n",
       "    .dataframe tbody tr th {\n",
       "        vertical-align: top;\n",
       "    }\n",
       "\n",
       "    .dataframe thead th {\n",
       "        text-align: right;\n",
       "    }\n",
       "</style>\n",
       "<table border=\"1\" class=\"dataframe\">\n",
       "  <thead>\n",
       "    <tr style=\"text-align: right;\">\n",
       "      <th></th>\n",
       "      <th>Geography</th>\n",
       "      <th>Labour force st</th>\n",
       "      <th>Total - Age groups</th>\n",
       "      <th>15 to 24 years</th>\n",
       "      <th>15 to 19 years</th>\n",
       "      <th>20 to 24 years</th>\n",
       "      <th>25 to 64 years</th>\n",
       "      <th>25 to 44 years</th>\n",
       "      <th>45 to 64 years</th>\n",
       "      <th>65 years and over</th>\n",
       "    </tr>\n",
       "  </thead>\n",
       "  <tbody>\n",
       "    <tr>\n",
       "      <th>0</th>\n",
       "      <td>1</td>\n",
       "      <td>Total - Labour force status</td>\n",
       "      <td>27259525.0</td>\n",
       "      <td>4324070.0</td>\n",
       "      <td>2160275.0</td>\n",
       "      <td>2163795.0</td>\n",
       "      <td>18383920.0</td>\n",
       "      <td>8755380.0</td>\n",
       "      <td>9628540.0</td>\n",
       "      <td>4551535.0</td>\n",
       "    </tr>\n",
       "    <tr>\n",
       "      <th>1</th>\n",
       "      <td>1</td>\n",
       "      <td>In the labour force</td>\n",
       "      <td>17990080.0</td>\n",
       "      <td>2613555.0</td>\n",
       "      <td>938185.0</td>\n",
       "      <td>1675365.0</td>\n",
       "      <td>14761045.0</td>\n",
       "      <td>7541800.0</td>\n",
       "      <td>7219240.0</td>\n",
       "      <td>615490.0</td>\n",
       "    </tr>\n",
       "    <tr>\n",
       "      <th>2</th>\n",
       "      <td>1</td>\n",
       "      <td>Employed</td>\n",
       "      <td>16595030.0</td>\n",
       "      <td>2180880.0</td>\n",
       "      <td>752530.0</td>\n",
       "      <td>1428350.0</td>\n",
       "      <td>13842115.0</td>\n",
       "      <td>7042700.0</td>\n",
       "      <td>6799415.0</td>\n",
       "      <td>572040.0</td>\n",
       "    </tr>\n",
       "    <tr>\n",
       "      <th>3</th>\n",
       "      <td>1</td>\n",
       "      <td>Unemployed</td>\n",
       "      <td>1395050.0</td>\n",
       "      <td>432670.0</td>\n",
       "      <td>185660.0</td>\n",
       "      <td>247015.0</td>\n",
       "      <td>918930.0</td>\n",
       "      <td>499105.0</td>\n",
       "      <td>419825.0</td>\n",
       "      <td>43445.0</td>\n",
       "    </tr>\n",
       "    <tr>\n",
       "      <th>4</th>\n",
       "      <td>1</td>\n",
       "      <td>Not in the labour force</td>\n",
       "      <td>9269445.0</td>\n",
       "      <td>1710515.0</td>\n",
       "      <td>1222085.0</td>\n",
       "      <td>488430.0</td>\n",
       "      <td>3622875.0</td>\n",
       "      <td>1213585.0</td>\n",
       "      <td>2409300.0</td>\n",
       "      <td>3936050.0</td>\n",
       "    </tr>\n",
       "  </tbody>\n",
       "</table>\n",
       "</div>"
      ],
      "text/plain": [
       "   Geography              Labour force st  Total - Age groups  \\\n",
       "0          1  Total - Labour force status          27259525.0   \n",
       "1          1          In the labour force          17990080.0   \n",
       "2          1                     Employed          16595030.0   \n",
       "3          1                   Unemployed           1395050.0   \n",
       "4          1      Not in the labour force           9269445.0   \n",
       "\n",
       "     15 to 24 years      15 to 19 years      20 to 24 years    25 to 64 years  \\\n",
       "0         4324070.0           2160275.0           2163795.0        18383920.0   \n",
       "1         2613555.0            938185.0           1675365.0        14761045.0   \n",
       "2         2180880.0            752530.0           1428350.0        13842115.0   \n",
       "3          432670.0            185660.0            247015.0          918930.0   \n",
       "4         1710515.0           1222085.0            488430.0         3622875.0   \n",
       "\n",
       "       25 to 44 years      45 to 64 years    65 years and over  \n",
       "0           8755380.0           9628540.0            4551535.0  \n",
       "1           7541800.0           7219240.0             615490.0  \n",
       "2           7042700.0           6799415.0             572040.0  \n",
       "3            499105.0            419825.0              43445.0  \n",
       "4           1213585.0           2409300.0            3936050.0  "
      ]
     },
     "execution_count": 91,
     "metadata": {},
     "output_type": "execute_result"
    }
   ],
   "source": [
    "df_census.head()"
   ]
  },
  {
   "cell_type": "code",
   "execution_count": 92,
   "id": "58cfa045",
   "metadata": {},
   "outputs": [
    {
     "data": {
      "text/plain": [
       "(29968, 10)"
      ]
     },
     "execution_count": 92,
     "metadata": {},
     "output_type": "execute_result"
    }
   ],
   "source": [
    "df_census.shape"
   ]
  },
  {
   "cell_type": "code",
   "execution_count": 93,
   "id": "5bf8ea4a",
   "metadata": {},
   "outputs": [
    {
     "data": {
      "text/html": [
       "<div>\n",
       "<style scoped>\n",
       "    .dataframe tbody tr th:only-of-type {\n",
       "        vertical-align: middle;\n",
       "    }\n",
       "\n",
       "    .dataframe tbody tr th {\n",
       "        vertical-align: top;\n",
       "    }\n",
       "\n",
       "    .dataframe thead th {\n",
       "        text-align: right;\n",
       "    }\n",
       "</style>\n",
       "<table border=\"1\" class=\"dataframe\">\n",
       "  <thead>\n",
       "    <tr style=\"text-align: right;\">\n",
       "      <th></th>\n",
       "      <th>Geo Code</th>\n",
       "      <th>Geo Name</th>\n",
       "      <th>Line Number</th>\n",
       "    </tr>\n",
       "  </thead>\n",
       "  <tbody>\n",
       "    <tr>\n",
       "      <th>0</th>\n",
       "      <td>1</td>\n",
       "      <td>Canada</td>\n",
       "      <td>2</td>\n",
       "    </tr>\n",
       "    <tr>\n",
       "      <th>1</th>\n",
       "      <td>10</td>\n",
       "      <td>Newfoundland and Labrador</td>\n",
       "      <td>2648</td>\n",
       "    </tr>\n",
       "    <tr>\n",
       "      <th>2</th>\n",
       "      <td>1001</td>\n",
       "      <td>Division No. 1</td>\n",
       "      <td>5294</td>\n",
       "    </tr>\n",
       "    <tr>\n",
       "      <th>3</th>\n",
       "      <td>1001105</td>\n",
       "      <td>Portugal Cove South</td>\n",
       "      <td>7940</td>\n",
       "    </tr>\n",
       "    <tr>\n",
       "      <th>4</th>\n",
       "      <td>1001113</td>\n",
       "      <td>Trepassey</td>\n",
       "      <td>10586</td>\n",
       "    </tr>\n",
       "  </tbody>\n",
       "</table>\n",
       "</div>"
      ],
      "text/plain": [
       "   Geo Code                   Geo Name  Line Number\n",
       "0         1                     Canada            2\n",
       "1        10  Newfoundland and Labrador         2648\n",
       "2      1001             Division No. 1         5294\n",
       "3   1001105        Portugal Cove South         7940\n",
       "4   1001113                  Trepassey        10586"
      ]
     },
     "execution_count": 93,
     "metadata": {},
     "output_type": "execute_result"
    }
   ],
   "source": [
    "df_geo_code.head()"
   ]
  },
  {
   "cell_type": "code",
   "execution_count": 94,
   "id": "5a467a50",
   "metadata": {},
   "outputs": [
    {
     "data": {
      "text/plain": [
       "3746"
      ]
     },
     "execution_count": 94,
     "metadata": {},
     "output_type": "execute_result"
    }
   ],
   "source": [
    "#Number of unique geo codes in census data\n",
    "df_census['Geography'].nunique()"
   ]
  },
  {
   "cell_type": "code",
   "execution_count": 95,
   "id": "5d939c4c",
   "metadata": {},
   "outputs": [
    {
     "data": {
      "text/html": [
       "<div>\n",
       "<style scoped>\n",
       "    .dataframe tbody tr th:only-of-type {\n",
       "        vertical-align: middle;\n",
       "    }\n",
       "\n",
       "    .dataframe tbody tr th {\n",
       "        vertical-align: top;\n",
       "    }\n",
       "\n",
       "    .dataframe thead th {\n",
       "        text-align: right;\n",
       "    }\n",
       "</style>\n",
       "<table border=\"1\" class=\"dataframe\">\n",
       "  <thead>\n",
       "    <tr style=\"text-align: right;\">\n",
       "      <th></th>\n",
       "      <th>Geo Code</th>\n",
       "      <th>Geo Name</th>\n",
       "      <th>Line Number</th>\n",
       "    </tr>\n",
       "  </thead>\n",
       "  <tbody>\n",
       "    <tr>\n",
       "      <th>4669</th>\n",
       "      <td>5949005</td>\n",
       "      <td>Kitimat</td>\n",
       "      <td>12354176</td>\n",
       "    </tr>\n",
       "  </tbody>\n",
       "</table>\n",
       "</div>"
      ],
      "text/plain": [
       "      Geo Code Geo Name  Line Number\n",
       "4669   5949005  Kitimat     12354176"
      ]
     },
     "execution_count": 95,
     "metadata": {},
     "output_type": "execute_result"
    }
   ],
   "source": [
    "df_geo_code[df_geo_code['Geo Name']=='Kitimat']"
   ]
  },
  {
   "cell_type": "code",
   "execution_count": 96,
   "id": "c7706f93",
   "metadata": {},
   "outputs": [
    {
     "name": "stdout",
     "output_type": "stream",
     "text": [
      "<class 'pandas.core.frame.DataFrame'>\n",
      "RangeIndex: 29968 entries, 0 to 29967\n",
      "Data columns (total 10 columns):\n",
      " #   Column               Non-Null Count  Dtype  \n",
      "---  ------               --------------  -----  \n",
      " 0   Geography            29968 non-null  int64  \n",
      " 1   Labour force st      29968 non-null  object \n",
      " 2   Total - Age groups   29968 non-null  float64\n",
      " 3     15 to 24 years     29968 non-null  float64\n",
      " 4       15 to 19 years   29968 non-null  float64\n",
      " 5       20 to 24 years   29968 non-null  float64\n",
      " 6     25 to 64 years     29968 non-null  float64\n",
      " 7       25 to 44 years   29968 non-null  float64\n",
      " 8       45 to 64 years   29968 non-null  float64\n",
      " 9     65 years and over  29968 non-null  float64\n",
      "dtypes: float64(8), int64(1), object(1)\n",
      "memory usage: 2.3+ MB\n"
     ]
    }
   ],
   "source": [
    "df_census.info()"
   ]
  },
  {
   "cell_type": "code",
   "execution_count": 97,
   "id": "0fab0c53",
   "metadata": {},
   "outputs": [],
   "source": [
    "#Filter census data\n",
    "df_census_unemp = df_census[df_census['Labour force st'].str.strip()=='Unemployed']"
   ]
  },
  {
   "cell_type": "code",
   "execution_count": null,
   "id": "62b389c6",
   "metadata": {},
   "outputs": [],
   "source": [
    "df_census_unemp.columns = df_census_unemp.columns.str.strip()\n",
    "df_census_unemp['Labour force st'] = df_census_unemp['Labour force st'].str.strip()"
   ]
  },
  {
   "cell_type": "code",
   "execution_count": 98,
   "id": "a01b10b8",
   "metadata": {},
   "outputs": [
    {
     "data": {
      "text/plain": [
       "(3746, 10)"
      ]
     },
     "execution_count": 98,
     "metadata": {},
     "output_type": "execute_result"
    }
   ],
   "source": [
    "df_census_unemp.shape"
   ]
  },
  {
   "cell_type": "code",
   "execution_count": 99,
   "id": "3f66d2d3",
   "metadata": {},
   "outputs": [
    {
     "data": {
      "text/html": [
       "<div>\n",
       "<style scoped>\n",
       "    .dataframe tbody tr th:only-of-type {\n",
       "        vertical-align: middle;\n",
       "    }\n",
       "\n",
       "    .dataframe tbody tr th {\n",
       "        vertical-align: top;\n",
       "    }\n",
       "\n",
       "    .dataframe thead th {\n",
       "        text-align: right;\n",
       "    }\n",
       "</style>\n",
       "<table border=\"1\" class=\"dataframe\">\n",
       "  <thead>\n",
       "    <tr style=\"text-align: right;\">\n",
       "      <th></th>\n",
       "      <th>Geography</th>\n",
       "      <th>Labour force st</th>\n",
       "      <th>Total - Age groups</th>\n",
       "      <th>15 to 24 years</th>\n",
       "      <th>15 to 19 years</th>\n",
       "      <th>20 to 24 years</th>\n",
       "      <th>25 to 64 years</th>\n",
       "      <th>25 to 44 years</th>\n",
       "      <th>45 to 64 years</th>\n",
       "      <th>65 years and over</th>\n",
       "    </tr>\n",
       "  </thead>\n",
       "  <tbody>\n",
       "    <tr>\n",
       "      <th>3</th>\n",
       "      <td>1</td>\n",
       "      <td>Unemployed</td>\n",
       "      <td>1395050.0</td>\n",
       "      <td>432670.0</td>\n",
       "      <td>185660.0</td>\n",
       "      <td>247015.0</td>\n",
       "      <td>918930.0</td>\n",
       "      <td>499105.0</td>\n",
       "      <td>419825.0</td>\n",
       "      <td>43445.0</td>\n",
       "    </tr>\n",
       "    <tr>\n",
       "      <th>11</th>\n",
       "      <td>10</td>\n",
       "      <td>Unemployed</td>\n",
       "      <td>37265.0</td>\n",
       "      <td>7280.0</td>\n",
       "      <td>2385.0</td>\n",
       "      <td>4890.0</td>\n",
       "      <td>28935.0</td>\n",
       "      <td>13550.0</td>\n",
       "      <td>15385.0</td>\n",
       "      <td>1055.0</td>\n",
       "    </tr>\n",
       "    <tr>\n",
       "      <th>19</th>\n",
       "      <td>1001</td>\n",
       "      <td>Unemployed</td>\n",
       "      <td>13520.0</td>\n",
       "      <td>3510.0</td>\n",
       "      <td>1185.0</td>\n",
       "      <td>2325.0</td>\n",
       "      <td>9655.0</td>\n",
       "      <td>5345.0</td>\n",
       "      <td>4315.0</td>\n",
       "      <td>350.0</td>\n",
       "    </tr>\n",
       "    <tr>\n",
       "      <th>27</th>\n",
       "      <td>1001101</td>\n",
       "      <td>Unemployed</td>\n",
       "      <td>0.0</td>\n",
       "      <td>0.0</td>\n",
       "      <td>0.0</td>\n",
       "      <td>0.0</td>\n",
       "      <td>0.0</td>\n",
       "      <td>0.0</td>\n",
       "      <td>0.0</td>\n",
       "      <td>0.0</td>\n",
       "    </tr>\n",
       "    <tr>\n",
       "      <th>35</th>\n",
       "      <td>1001105</td>\n",
       "      <td>Unemployed</td>\n",
       "      <td>45.0</td>\n",
       "      <td>0.0</td>\n",
       "      <td>0.0</td>\n",
       "      <td>0.0</td>\n",
       "      <td>30.0</td>\n",
       "      <td>0.0</td>\n",
       "      <td>30.0</td>\n",
       "      <td>0.0</td>\n",
       "    </tr>\n",
       "  </tbody>\n",
       "</table>\n",
       "</div>"
      ],
      "text/plain": [
       "    Geography Labour force st  Total - Age groups    15 to 24 years  \\\n",
       "3           1      Unemployed           1395050.0          432670.0   \n",
       "11         10      Unemployed             37265.0            7280.0   \n",
       "19       1001      Unemployed             13520.0            3510.0   \n",
       "27    1001101      Unemployed                 0.0               0.0   \n",
       "35    1001105      Unemployed                45.0               0.0   \n",
       "\n",
       "        15 to 19 years      20 to 24 years    25 to 64 years  \\\n",
       "3             185660.0            247015.0          918930.0   \n",
       "11              2385.0              4890.0           28935.0   \n",
       "19              1185.0              2325.0            9655.0   \n",
       "27                 0.0                 0.0               0.0   \n",
       "35                 0.0                 0.0              30.0   \n",
       "\n",
       "        25 to 44 years      45 to 64 years    65 years and over  \n",
       "3             499105.0            419825.0              43445.0  \n",
       "11             13550.0             15385.0               1055.0  \n",
       "19              5345.0              4315.0                350.0  \n",
       "27                 0.0                 0.0                  0.0  \n",
       "35                 0.0                30.0                  0.0  "
      ]
     },
     "execution_count": 99,
     "metadata": {},
     "output_type": "execute_result"
    }
   ],
   "source": [
    "df_census_unemp.head()"
   ]
  },
  {
   "cell_type": "code",
   "execution_count": 124,
   "id": "8c86d892",
   "metadata": {},
   "outputs": [],
   "source": [
    "df_census_num = []\n",
    "for i in df_census_unemp.columns:\n",
    "    if (df_census_unemp[i].dtype != 'O'):\n",
    "        df_census_num.append(i)"
   ]
  },
  {
   "cell_type": "code",
   "execution_count": 125,
   "id": "221fa026",
   "metadata": {},
   "outputs": [
    {
     "data": {
      "text/plain": [
       "['Geography',\n",
       " 'Total - Age groups',\n",
       " '15 to 24 years',\n",
       " '15 to 19 years',\n",
       " '20 to 24 years',\n",
       " '25 to 64 years',\n",
       " '25 to 44 years',\n",
       " '45 to 64 years',\n",
       " '65 years and over']"
      ]
     },
     "execution_count": 125,
     "metadata": {},
     "output_type": "execute_result"
    }
   ],
   "source": [
    "df_census_num"
   ]
  },
  {
   "cell_type": "code",
   "execution_count": 127,
   "id": "3eafd0b1",
   "metadata": {},
   "outputs": [
    {
     "name": "stdout",
     "output_type": "stream",
     "text": [
      "Distribution of numerical data\n"
     ]
    },
    {
     "data": {
      "image/png": "[encoded data removed]",
      "text/plain": [
       "<Figure size 432x288 with 1 Axes>"
      ]
     },
     "metadata": {
      "needs_background": "light"
     },
     "output_type": "display_data"
    },
    {
     "data": {
      "image/png": "[encoded data removed]",
      "text/plain": [
       "<Figure size 432x288 with 1 Axes>"
      ]
     },
     "metadata": {
      "needs_background": "light"
     },
     "output_type": "display_data"
    },
    {
     "data": {
      "image/png": "[encoded data removed]",
      "text/plain": [
       "<Figure size 432x288 with 1 Axes>"
      ]
     },
     "metadata": {
      "needs_background": "light"
     },
     "output_type": "display_data"
    },
    {
     "data": {
      "image/png": "[encoded data removed]",
      "text/plain": [
       "<Figure size 432x288 with 1 Axes>"
      ]
     },
     "metadata": {
      "needs_background": "light"
     },
     "output_type": "display_data"
    },
    {
     "data": {
      "image/png": "[encoded data removed]",
      "text/plain": [
       "<Figure size 432x288 with 1 Axes>"
      ]
     },
     "metadata": {
      "needs_background": "light"
     },
     "output_type": "display_data"
    },
    {
     "data": {
      "image/png": "[encoded data removed]",
      "text/plain": [
       "<Figure size 432x288 with 1 Axes>"
      ]
     },
     "metadata": {
      "needs_background": "light"
     },
     "output_type": "display_data"
    },
    {
     "data": {
      "image/png": "[encoded data removed]",
      "text/plain": [
       "<Figure size 432x288 with 1 Axes>"
      ]
     },
     "metadata": {
      "needs_background": "light"
     },
     "output_type": "display_data"
    },
    {
     "data": {
      "image/png": "[encoded data removed]",
      "text/plain": [
       "<Figure size 432x288 with 1 Axes>"
      ]
     },
     "metadata": {
      "needs_background": "light"
     },
     "output_type": "display_data"
    },
    {
     "data": {
      "image/png": "[encoded data removed]",
      "text/plain": [
       "<Figure size 432x288 with 1 Axes>"
      ]
     },
     "metadata": {
      "needs_background": "light"
     },
     "output_type": "display_data"
    }
   ],
   "source": [
    "print(\"Distribution of numerical data\")\n",
    "for i in df_census_num:    \n",
    "    plt.xlabel(f'{i}')\n",
    "    plt.ylabel('Count')\n",
    "    df_census_unemp[i].plot()\n",
    "    plt.show()"
   ]
  },
  {
   "cell_type": "code",
   "execution_count": 101,
   "id": "c687bc5a",
   "metadata": {},
   "outputs": [],
   "source": [
    "#Without Transformation"
   ]
  },
  {
   "cell_type": "code",
   "execution_count": 104,
   "id": "1c9cf23f",
   "metadata": {},
   "outputs": [
    {
     "data": {
      "text/html": [
       "<div>\n",
       "<style scoped>\n",
       "    .dataframe tbody tr th:only-of-type {\n",
       "        vertical-align: middle;\n",
       "    }\n",
       "\n",
       "    .dataframe tbody tr th {\n",
       "        vertical-align: top;\n",
       "    }\n",
       "\n",
       "    .dataframe thead th {\n",
       "        text-align: right;\n",
       "    }\n",
       "</style>\n",
       "<table border=\"1\" class=\"dataframe\">\n",
       "  <thead>\n",
       "    <tr style=\"text-align: right;\">\n",
       "      <th></th>\n",
       "      <th>Geography</th>\n",
       "      <th>Labour force st</th>\n",
       "      <th>Total - Age groups</th>\n",
       "      <th>15 to 24 years</th>\n",
       "      <th>15 to 19 years</th>\n",
       "      <th>20 to 24 years</th>\n",
       "      <th>25 to 64 years</th>\n",
       "      <th>25 to 44 years</th>\n",
       "      <th>45 to 64 years</th>\n",
       "      <th>65 years and over</th>\n",
       "    </tr>\n",
       "  </thead>\n",
       "  <tbody>\n",
       "    <tr>\n",
       "      <th>3</th>\n",
       "      <td>1</td>\n",
       "      <td>Unemployed</td>\n",
       "      <td>1395050.0</td>\n",
       "      <td>432670.0</td>\n",
       "      <td>185660.0</td>\n",
       "      <td>247015.0</td>\n",
       "      <td>918930.0</td>\n",
       "      <td>499105.0</td>\n",
       "      <td>419825.0</td>\n",
       "      <td>43445.0</td>\n",
       "    </tr>\n",
       "    <tr>\n",
       "      <th>11</th>\n",
       "      <td>10</td>\n",
       "      <td>Unemployed</td>\n",
       "      <td>37265.0</td>\n",
       "      <td>7280.0</td>\n",
       "      <td>2385.0</td>\n",
       "      <td>4890.0</td>\n",
       "      <td>28935.0</td>\n",
       "      <td>13550.0</td>\n",
       "      <td>15385.0</td>\n",
       "      <td>1055.0</td>\n",
       "    </tr>\n",
       "    <tr>\n",
       "      <th>19</th>\n",
       "      <td>1001</td>\n",
       "      <td>Unemployed</td>\n",
       "      <td>13520.0</td>\n",
       "      <td>3510.0</td>\n",
       "      <td>1185.0</td>\n",
       "      <td>2325.0</td>\n",
       "      <td>9655.0</td>\n",
       "      <td>5345.0</td>\n",
       "      <td>4315.0</td>\n",
       "      <td>350.0</td>\n",
       "    </tr>\n",
       "    <tr>\n",
       "      <th>27</th>\n",
       "      <td>1001101</td>\n",
       "      <td>Unemployed</td>\n",
       "      <td>0.0</td>\n",
       "      <td>0.0</td>\n",
       "      <td>0.0</td>\n",
       "      <td>0.0</td>\n",
       "      <td>0.0</td>\n",
       "      <td>0.0</td>\n",
       "      <td>0.0</td>\n",
       "      <td>0.0</td>\n",
       "    </tr>\n",
       "    <tr>\n",
       "      <th>35</th>\n",
       "      <td>1001105</td>\n",
       "      <td>Unemployed</td>\n",
       "      <td>45.0</td>\n",
       "      <td>0.0</td>\n",
       "      <td>0.0</td>\n",
       "      <td>0.0</td>\n",
       "      <td>30.0</td>\n",
       "      <td>0.0</td>\n",
       "      <td>30.0</td>\n",
       "      <td>0.0</td>\n",
       "    </tr>\n",
       "  </tbody>\n",
       "</table>\n",
       "</div>"
      ],
      "text/plain": [
       "    Geography Labour force st  Total - Age groups  15 to 24 years  \\\n",
       "3           1      Unemployed           1395050.0        432670.0   \n",
       "11         10      Unemployed             37265.0          7280.0   \n",
       "19       1001      Unemployed             13520.0          3510.0   \n",
       "27    1001101      Unemployed                 0.0             0.0   \n",
       "35    1001105      Unemployed                45.0             0.0   \n",
       "\n",
       "    15 to 19 years  20 to 24 years  25 to 64 years  25 to 44 years  \\\n",
       "3         185660.0        247015.0        918930.0        499105.0   \n",
       "11          2385.0          4890.0         28935.0         13550.0   \n",
       "19          1185.0          2325.0          9655.0          5345.0   \n",
       "27             0.0             0.0             0.0             0.0   \n",
       "35             0.0             0.0            30.0             0.0   \n",
       "\n",
       "    45 to 64 years  65 years and over  \n",
       "3         419825.0            43445.0  \n",
       "11         15385.0             1055.0  \n",
       "19          4315.0              350.0  \n",
       "27             0.0                0.0  \n",
       "35            30.0                0.0  "
      ]
     },
     "execution_count": 104,
     "metadata": {},
     "output_type": "execute_result"
    }
   ],
   "source": [
    "df_census_unemp.head()"
   ]
  },
  {
   "cell_type": "code",
   "execution_count": 108,
   "id": "969c84a3",
   "metadata": {},
   "outputs": [],
   "source": [
    "X = df_census_unemp[['Geography', '15 to 24 years', '15 to 19 years', '20 to 24 years', '25 to 64 years', '25 to 44 years', '45 to 64 years', '65 years and over']]\n",
    "y = df_census_unemp['Total - Age groups']"
   ]
  },
  {
   "cell_type": "code",
   "execution_count": 113,
   "id": "62104f72",
   "metadata": {},
   "outputs": [],
   "source": [
    "X_train, X_test, y_train, y_test = train_test_split(X, y, test_size=0.1, random_state=42)"
   ]
  },
  {
   "cell_type": "code",
   "execution_count": 114,
   "id": "16a5a013",
   "metadata": {},
   "outputs": [],
   "source": [
    "reg = LinearRegression().fit(X, y)"
   ]
  },
  {
   "cell_type": "code",
   "execution_count": 115,
   "id": "dadf0c48",
   "metadata": {},
   "outputs": [],
   "source": [
    "y_predict = reg.predict(X_test)"
   ]
  },
  {
   "cell_type": "code",
   "execution_count": 116,
   "id": "a4fbc2c3",
   "metadata": {},
   "outputs": [
    {
     "data": {
      "text/plain": [
       "array([-2.14592498e-07,  9.48650960e-01,  5.24727329e-02,  4.99290714e-02,\n",
       "        1.02733858e+00, -2.74916895e-02, -2.55936292e-02,  9.87896578e-01])"
      ]
     },
     "execution_count": 116,
     "metadata": {},
     "output_type": "execute_result"
    }
   ],
   "source": [
    " reg.coef_"
   ]
  },
  {
   "cell_type": "code",
   "execution_count": 117,
   "id": "517dd907",
   "metadata": {},
   "outputs": [
    {
     "data": {
      "text/plain": [
       "5.181511984180588"
      ]
     },
     "execution_count": 117,
     "metadata": {},
     "output_type": "execute_result"
    }
   ],
   "source": [
    "reg.intercept_"
   ]
  },
  {
   "cell_type": "code",
   "execution_count": null,
   "id": "c5a8d475",
   "metadata": {},
   "outputs": [],
   "source": []
  }
 ],
 "metadata": {
  "kernelspec": {
   "display_name": "Python 3 (ipykernel)",
   "language": "python",
   "name": "python3"
  },
  "language_info": {
   "codemirror_mode": {
    "name": "ipython",
    "version": 3
   },
   "file_extension": ".py",
   "mimetype": "text/x-python",
   "name": "python",
   "nbconvert_exporter": "python",
   "pygments_lexer": "ipython3",
   "version": "3.10.4"
  }
 },
 "nbformat": 4,
 "nbformat_minor": 5
}
